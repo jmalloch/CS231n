{
 "cells": [
  {
   "cell_type": "markdown",
   "metadata": {
    "tags": [
     "pdf-title"
    ]
   },
   "source": [
    "# Softmax exercise\n",
    "\n",
    "*Complete and hand in this completed worksheet (including its outputs and any supporting code outside of the worksheet) with your assignment submission. For more details see the [assignments page](http://vision.stanford.edu/teaching/cs231n/assignments.html) on the course website.*\n",
    "\n",
    "This exercise is analogous to the SVM exercise. You will:\n",
    "\n",
    "- implement a fully-vectorized **loss function** for the Softmax classifier\n",
    "- implement the fully-vectorized expression for its **analytic gradient**\n",
    "- **check your implementation** with numerical gradient\n",
    "- use a validation set to **tune the learning rate and regularization** strength\n",
    "- **optimize** the loss function with **SGD**\n",
    "- **visualize** the final learned weights\n"
   ]
  },
  {
   "cell_type": "code",
   "execution_count": 1,
   "metadata": {
    "tags": [
     "pdf-ignore"
    ]
   },
   "outputs": [],
   "source": [
    "import random\n",
    "import numpy as np\n",
    "from cs231n.data_utils import load_CIFAR10\n",
    "import matplotlib.pyplot as plt\n",
    "\n",
    "%matplotlib inline\n",
    "plt.rcParams['figure.figsize'] = (10.0, 8.0) # set default size of plots\n",
    "plt.rcParams['image.interpolation'] = 'nearest'\n",
    "plt.rcParams['image.cmap'] = 'gray'\n",
    "\n",
    "# for auto-reloading extenrnal modules\n",
    "# see http://stackoverflow.com/questions/1907993/autoreload-of-modules-in-ipython\n",
    "%load_ext autoreload\n",
    "%autoreload 2"
   ]
  },
  {
   "cell_type": "code",
   "execution_count": 2,
   "metadata": {
    "tags": [
     "pdf-ignore"
    ]
   },
   "outputs": [
    {
     "name": "stdout",
     "output_type": "stream",
     "text": [
      "Train data shape:  (49000, 3073)\n",
      "Train labels shape:  (49000,)\n",
      "Validation data shape:  (1000, 3073)\n",
      "Validation labels shape:  (1000,)\n",
      "Test data shape:  (1000, 3073)\n",
      "Test labels shape:  (1000,)\n",
      "dev data shape:  (500, 3073)\n",
      "dev labels shape:  (500,)\n"
     ]
    }
   ],
   "source": [
    "def get_CIFAR10_data(num_training=49000, num_validation=1000, num_test=1000, num_dev=500):\n",
    "    \"\"\"\n",
    "    Load the CIFAR-10 dataset from disk and perform preprocessing to prepare\n",
    "    it for the linear classifier. These are the same steps as we used for the\n",
    "    SVM, but condensed to a single function.  \n",
    "    \"\"\"\n",
    "    # Load the raw CIFAR-10 data\n",
    "    cifar10_dir = 'cs231n/datasets/cifar-10-batches-py'\n",
    "    \n",
    "    # Cleaning up variables to prevent loading data multiple times (which may cause memory issue)\n",
    "    try:\n",
    "       del X_train, y_train\n",
    "       del X_test, y_test\n",
    "       print('Clear previously loaded data.')\n",
    "    except:\n",
    "       pass\n",
    "\n",
    "    X_train, y_train, X_test, y_test = load_CIFAR10(cifar10_dir)\n",
    "    \n",
    "    # subsample the data\n",
    "    mask = list(range(num_training, num_training + num_validation))\n",
    "    X_val = X_train[mask]\n",
    "    y_val = y_train[mask]\n",
    "    mask = list(range(num_training))\n",
    "    X_train = X_train[mask]\n",
    "    y_train = y_train[mask]\n",
    "    mask = list(range(num_test))\n",
    "    X_test = X_test[mask]\n",
    "    y_test = y_test[mask]\n",
    "    mask = np.random.choice(num_training, num_dev, replace=False)\n",
    "    X_dev = X_train[mask]\n",
    "    y_dev = y_train[mask]\n",
    "    \n",
    "    # Preprocessing: reshape the image data into rows\n",
    "    X_train = np.reshape(X_train, (X_train.shape[0], -1))\n",
    "    X_val = np.reshape(X_val, (X_val.shape[0], -1))\n",
    "    X_test = np.reshape(X_test, (X_test.shape[0], -1))\n",
    "    X_dev = np.reshape(X_dev, (X_dev.shape[0], -1))\n",
    "    \n",
    "    # Normalize the data: subtract the mean image\n",
    "    mean_image = np.mean(X_train, axis = 0)\n",
    "    X_train -= mean_image\n",
    "    X_val -= mean_image\n",
    "    X_test -= mean_image\n",
    "    X_dev -= mean_image\n",
    "    \n",
    "    # add bias dimension and transform into columns\n",
    "    X_train = np.hstack([X_train, np.ones((X_train.shape[0], 1))])\n",
    "    X_val = np.hstack([X_val, np.ones((X_val.shape[0], 1))])\n",
    "    X_test = np.hstack([X_test, np.ones((X_test.shape[0], 1))])\n",
    "    X_dev = np.hstack([X_dev, np.ones((X_dev.shape[0], 1))])\n",
    "    \n",
    "    return X_train, y_train, X_val, y_val, X_test, y_test, X_dev, y_dev\n",
    "\n",
    "\n",
    "# Invoke the above function to get our data.\n",
    "X_train, y_train, X_val, y_val, X_test, y_test, X_dev, y_dev = get_CIFAR10_data()\n",
    "print('Train data shape: ', X_train.shape)\n",
    "print('Train labels shape: ', y_train.shape)\n",
    "print('Validation data shape: ', X_val.shape)\n",
    "print('Validation labels shape: ', y_val.shape)\n",
    "print('Test data shape: ', X_test.shape)\n",
    "print('Test labels shape: ', y_test.shape)\n",
    "print('dev data shape: ', X_dev.shape)\n",
    "print('dev labels shape: ', y_dev.shape)"
   ]
  },
  {
   "cell_type": "markdown",
   "metadata": {},
   "source": [
    "## Softmax Classifier\n",
    "\n",
    "Your code for this section will all be written inside **cs231n/classifiers/softmax.py**. \n"
   ]
  },
  {
   "cell_type": "code",
   "execution_count": 21,
   "metadata": {},
   "outputs": [
    {
     "name": "stdout",
     "output_type": "stream",
     "text": [
      "loss: 2.400727\n",
      "sanity check: 2.302585\n"
     ]
    }
   ],
   "source": [
    "# First implement the naive softmax loss function with nested loops.\n",
    "# Open the file cs231n/classifiers/softmax.py and implement the\n",
    "# softmax_loss_naive function.\n",
    "\n",
    "from cs231n.classifiers.softmax import softmax_loss_naive\n",
    "import time\n",
    "\n",
    "# Generate a random softmax weight matrix and use it to compute the loss.\n",
    "W = np.random.randn(3073, 10) * 0.0001\n",
    "loss, grad = softmax_loss_naive(W, X_dev, y_dev, 0.0)\n",
    "\n",
    "# As a rough sanity check, our loss should be something close to -log(0.1).\n",
    "print('loss: %f' % loss)\n",
    "print('sanity check: %f' % (-np.log(0.1)))"
   ]
  },
  {
   "cell_type": "markdown",
   "metadata": {
    "tags": [
     "pdf-inline"
    ]
   },
   "source": [
    "**Inline Question 1**\n",
    "\n",
    "Why do we expect our loss to be close to -log(0.1)? Explain briefly.**\n",
    "\n",
    "$\\color{blue}{\\textit Your Answer:}$ No learning has occured therefore the chance that a the correct output category is chosen in CIFAR-10 is 1/10 or 0.1.\n",
    "\n"
   ]
  },
  {
   "cell_type": "code",
   "execution_count": 22,
   "metadata": {},
   "outputs": [
    {
     "name": "stdout",
     "output_type": "stream",
     "text": [
      "numerical: -0.653734 analytic: -0.653734, relative error: 2.094502e-08\n",
      "numerical: -0.084347 analytic: -0.084347, relative error: 7.242463e-07\n",
      "numerical: -1.750360 analytic: -1.750360, relative error: 2.466517e-08\n",
      "numerical: 1.637750 analytic: 1.637750, relative error: 1.535949e-08\n",
      "numerical: 2.183746 analytic: 2.183746, relative error: 7.909780e-10\n",
      "numerical: -1.225688 analytic: -1.225688, relative error: 3.384420e-08\n",
      "numerical: -1.591111 analytic: -1.591111, relative error: 1.001620e-08\n",
      "numerical: -1.170753 analytic: -1.170753, relative error: 3.961920e-08\n",
      "numerical: -0.943047 analytic: -0.943047, relative error: 2.362097e-08\n",
      "numerical: -6.285921 analytic: -6.285921, relative error: 1.564179e-09\n",
      "numerical: -2.459649 analytic: -2.459649, relative error: 2.781819e-08\n",
      "numerical: -3.239579 analytic: -3.239579, relative error: 2.226994e-08\n",
      "numerical: -0.664463 analytic: -0.664463, relative error: 5.236851e-10\n",
      "numerical: 4.166450 analytic: 4.166450, relative error: 3.970919e-08\n",
      "numerical: -1.439086 analytic: -1.439086, relative error: 1.403166e-08\n",
      "numerical: -0.446790 analytic: -0.446790, relative error: 1.363480e-07\n",
      "numerical: -2.284781 analytic: -2.284781, relative error: 5.058056e-09\n",
      "numerical: -1.841358 analytic: -1.841358, relative error: 1.665279e-08\n",
      "numerical: -2.207040 analytic: -2.207040, relative error: 5.209894e-09\n",
      "numerical: -0.410928 analytic: -0.410928, relative error: 3.066152e-08\n"
     ]
    }
   ],
   "source": [
    "# Complete the implementation of softmax_loss_naive and implement a (naive)\n",
    "# version of the gradient that uses nested loops.\n",
    "loss, grad = softmax_loss_naive(W, X_dev, y_dev, 0.0)\n",
    "\n",
    "# As we did for the SVM, use numeric gradient checking as a debugging tool.\n",
    "# The numeric gradient should be close to the analytic gradient.\n",
    "from cs231n.gradient_check import grad_check_sparse\n",
    "f = lambda w: softmax_loss_naive(w, X_dev, y_dev, 0.0)[0]\n",
    "grad_numerical = grad_check_sparse(f, W, grad, 10)\n",
    "\n",
    "# similar to SVM case, do another gradient check with regularization\n",
    "loss, grad = softmax_loss_naive(W, X_dev, y_dev, 5e1)\n",
    "f = lambda w: softmax_loss_naive(w, X_dev, y_dev, 5e1)[0]\n",
    "grad_numerical = grad_check_sparse(f, W, grad, 10)"
   ]
  },
  {
   "cell_type": "code",
   "execution_count": 32,
   "metadata": {},
   "outputs": [
    {
     "name": "stdout",
     "output_type": "stream",
     "text": [
      "naive loss: 2.400727e+00 computed in 0.183365s\n",
      "vectorized loss: 2.400727e+00 computed in 0.004343s\n",
      "Loss difference: 0.000000\n",
      "Gradient difference: 0.000000\n"
     ]
    }
   ],
   "source": [
    "# Now that we have a naive implementation of the softmax loss function and its gradient,\n",
    "# implement a vectorized version in softmax_loss_vectorized.\n",
    "# The two versions should compute the same results, but the vectorized version should be\n",
    "# much faster.\n",
    "tic = time.time()\n",
    "loss_naive, grad_naive = softmax_loss_naive(W, X_dev, y_dev, 0.000005)\n",
    "toc = time.time()\n",
    "print('naive loss: %e computed in %fs' % (loss_naive, toc - tic))\n",
    "\n",
    "from cs231n.classifiers.softmax import softmax_loss_vectorized\n",
    "tic = time.time()\n",
    "loss_vectorized, grad_vectorized = softmax_loss_vectorized(W, X_dev, y_dev, 0.000005)\n",
    "toc = time.time()\n",
    "print('vectorized loss: %e computed in %fs' % (loss_vectorized, toc - tic))\n",
    "\n",
    "# As we did for the SVM, we use the Frobenius norm to compare the two versions\n",
    "# of the gradient.\n",
    "grad_difference = np.linalg.norm(grad_naive - grad_vectorized, ord='fro')\n",
    "print('Loss difference: %f' % np.abs(loss_naive - loss_vectorized))\n",
    "print('Gradient difference: %f' % grad_difference)"
   ]
  },
  {
   "cell_type": "code",
   "execution_count": 34,
   "metadata": {
    "tags": [
     "code"
    ]
   },
   "outputs": [
    {
     "name": "stderr",
     "output_type": "stream",
     "text": [
      "/home/jack/Documents/CS231n/assignment1/cs231n/classifiers/softmax.py:82: RuntimeWarning: divide by zero encountered in log\n",
      "  \n",
      "/home/jack/Documents/CS231n/assignment1/cs231n/classifiers/softmax.py:91: RuntimeWarning: overflow encountered in double_scalars\n",
      "  dW  += reg*2*W\n",
      "/home/jack/anaconda3/envs/cs231n/lib/python3.7/site-packages/numpy/core/fromnumeric.py:86: RuntimeWarning: overflow encountered in reduce\n",
      "  return ufunc.reduce(obj, axis, dtype, out, **passkwargs)\n",
      "/home/jack/Documents/CS231n/assignment1/cs231n/classifiers/softmax.py:91: RuntimeWarning: overflow encountered in multiply\n",
      "  dW  += reg*2*W\n",
      "/home/jack/Documents/CS231n/assignment1/cs231n/classifiers/softmax.py:92: RuntimeWarning: overflow encountered in multiply\n",
      "  # *****END OF YOUR CODE (DO NOT DELETE/MODIFY THIS LINE)*****\n",
      "/home/jack/Documents/CS231n/assignment1/cs231n/classifiers/softmax.py:77: RuntimeWarning: invalid value encountered in matmul\n",
      "  scores = np.matmul(X, W)\n"
     ]
    },
    {
     "name": "stdout",
     "output_type": "stream",
     "text": [
      "lr 1.000000e-08 reg 1.000000e+03 train accuracy: 0.121694 val accuracy: 0.125000\n",
      "lr 1.000000e-08 reg 2.500000e+03 train accuracy: 0.135898 val accuracy: 0.151000\n",
      "lr 1.000000e-08 reg 5.000000e+03 train accuracy: 0.104592 val accuracy: 0.112000\n",
      "lr 1.000000e-08 reg 7.500000e+03 train accuracy: 0.147020 val accuracy: 0.164000\n",
      "lr 1.000000e-08 reg 1.000000e+04 train accuracy: 0.100102 val accuracy: 0.111000\n",
      "lr 1.000000e-08 reg 2.500000e+04 train accuracy: 0.093184 val accuracy: 0.093000\n",
      "lr 1.000000e-08 reg 5.000000e+04 train accuracy: 0.124327 val accuracy: 0.129000\n",
      "lr 1.000000e-08 reg 7.500000e+04 train accuracy: 0.125816 val accuracy: 0.134000\n",
      "lr 1.000000e-07 reg 1.000000e+03 train accuracy: 0.208408 val accuracy: 0.208000\n",
      "lr 1.000000e-07 reg 2.500000e+03 train accuracy: 0.206551 val accuracy: 0.225000\n",
      "lr 1.000000e-07 reg 5.000000e+03 train accuracy: 0.231796 val accuracy: 0.241000\n",
      "lr 1.000000e-07 reg 7.500000e+03 train accuracy: 0.229490 val accuracy: 0.230000\n",
      "lr 1.000000e-07 reg 1.000000e+04 train accuracy: 0.255388 val accuracy: 0.270000\n",
      "lr 1.000000e-07 reg 2.500000e+04 train accuracy: 0.306306 val accuracy: 0.315000\n",
      "lr 1.000000e-07 reg 5.000000e+04 train accuracy: 0.300694 val accuracy: 0.311000\n",
      "lr 1.000000e-07 reg 7.500000e+04 train accuracy: 0.303490 val accuracy: 0.314000\n",
      "lr 5.000000e-07 reg 1.000000e+03 train accuracy: 0.296857 val accuracy: 0.286000\n",
      "lr 5.000000e-07 reg 2.500000e+03 train accuracy: 0.344408 val accuracy: 0.358000\n",
      "lr 5.000000e-07 reg 5.000000e+03 train accuracy: 0.368306 val accuracy: 0.375000\n",
      "lr 5.000000e-07 reg 7.500000e+03 train accuracy: 0.355796 val accuracy: 0.368000\n",
      "lr 5.000000e-07 reg 1.000000e+04 train accuracy: 0.352061 val accuracy: 0.368000\n",
      "lr 5.000000e-07 reg 2.500000e+04 train accuracy: 0.324714 val accuracy: 0.337000\n",
      "lr 5.000000e-07 reg 5.000000e+04 train accuracy: 0.294571 val accuracy: 0.309000\n",
      "lr 5.000000e-07 reg 7.500000e+04 train accuracy: 0.278939 val accuracy: 0.300000\n",
      "lr 1.000000e-06 reg 1.000000e+03 train accuracy: 0.359204 val accuracy: 0.360000\n",
      "lr 1.000000e-06 reg 2.500000e+03 train accuracy: 0.380878 val accuracy: 0.394000\n",
      "lr 1.000000e-06 reg 5.000000e+03 train accuracy: 0.371653 val accuracy: 0.372000\n",
      "lr 1.000000e-06 reg 7.500000e+03 train accuracy: 0.359286 val accuracy: 0.362000\n",
      "lr 1.000000e-06 reg 1.000000e+04 train accuracy: 0.354837 val accuracy: 0.380000\n",
      "lr 1.000000e-06 reg 2.500000e+04 train accuracy: 0.331939 val accuracy: 0.356000\n",
      "lr 1.000000e-06 reg 5.000000e+04 train accuracy: 0.310714 val accuracy: 0.320000\n",
      "lr 1.000000e-06 reg 7.500000e+04 train accuracy: 0.287694 val accuracy: 0.306000\n",
      "lr 5.000000e-06 reg 1.000000e+03 train accuracy: 0.301102 val accuracy: 0.296000\n",
      "lr 5.000000e-06 reg 2.500000e+03 train accuracy: 0.327122 val accuracy: 0.325000\n",
      "lr 5.000000e-06 reg 5.000000e+03 train accuracy: 0.298347 val accuracy: 0.312000\n",
      "lr 5.000000e-06 reg 7.500000e+03 train accuracy: 0.308980 val accuracy: 0.327000\n",
      "lr 5.000000e-06 reg 1.000000e+04 train accuracy: 0.324490 val accuracy: 0.318000\n",
      "lr 5.000000e-06 reg 2.500000e+04 train accuracy: 0.213918 val accuracy: 0.226000\n",
      "lr 5.000000e-06 reg 5.000000e+04 train accuracy: 0.124082 val accuracy: 0.123000\n",
      "lr 5.000000e-06 reg 7.500000e+04 train accuracy: 0.117000 val accuracy: 0.113000\n",
      "lr 1.000000e-05 reg 1.000000e+03 train accuracy: 0.260694 val accuracy: 0.268000\n",
      "lr 1.000000e-05 reg 2.500000e+03 train accuracy: 0.214367 val accuracy: 0.227000\n",
      "lr 1.000000e-05 reg 5.000000e+03 train accuracy: 0.233163 val accuracy: 0.246000\n",
      "lr 1.000000e-05 reg 7.500000e+03 train accuracy: 0.208694 val accuracy: 0.196000\n",
      "lr 1.000000e-05 reg 1.000000e+04 train accuracy: 0.185490 val accuracy: 0.183000\n",
      "lr 1.000000e-05 reg 2.500000e+04 train accuracy: 0.138061 val accuracy: 0.136000\n",
      "lr 1.000000e-05 reg 5.000000e+04 train accuracy: 0.092633 val accuracy: 0.102000\n",
      "lr 1.000000e-05 reg 7.500000e+04 train accuracy: 0.083714 val accuracy: 0.091000\n",
      "lr 5.000000e-05 reg 1.000000e+03 train accuracy: 0.215571 val accuracy: 0.211000\n",
      "lr 5.000000e-05 reg 2.500000e+03 train accuracy: 0.190041 val accuracy: 0.189000\n",
      "lr 5.000000e-05 reg 5.000000e+03 train accuracy: 0.186857 val accuracy: 0.191000\n",
      "lr 5.000000e-05 reg 7.500000e+03 train accuracy: 0.093347 val accuracy: 0.072000\n",
      "lr 5.000000e-05 reg 1.000000e+04 train accuracy: 0.064327 val accuracy: 0.060000\n",
      "lr 5.000000e-05 reg 2.500000e+04 train accuracy: 0.068837 val accuracy: 0.069000\n",
      "lr 5.000000e-05 reg 5.000000e+04 train accuracy: 0.073163 val accuracy: 0.073000\n",
      "lr 5.000000e-05 reg 7.500000e+04 train accuracy: 0.100265 val accuracy: 0.087000\n",
      "best validation accuracy achieved during cross-validation: 0.394000\n"
     ]
    }
   ],
   "source": [
    "# Use the validation set to tune hyperparameters (regularization strength and\n",
    "# learning rate). You should experiment with different ranges for the learning\n",
    "# rates and regularization strengths; if you are careful you should be able to\n",
    "# get a classification accuracy of over 0.35 on the validation set.\n",
    "from cs231n.classifiers import Softmax\n",
    "results = {}\n",
    "best_val = -1\n",
    "best_softmax = None\n",
    "learning_rates = [1e-8, 5e-7, 1e-7, 5e-6, 1e-6, 5e-5, 1e-5]\n",
    "regularization_strengths = [1e3, 2.5e3, 5e3, 7.5e3, 1e4, 2.5e4, 5e4, 7.5e4]\n",
    "\n",
    "################################################################################\n",
    "# TODO:                                                                        #\n",
    "# Use the validation set to set the learning rate and regularization strength. #\n",
    "# This should be identical to the validation that you did for the SVM; save    #\n",
    "# the best trained softmax classifer in best_softmax.                          #\n",
    "################################################################################\n",
    "# *****START OF YOUR CODE (DO NOT DELETE/MODIFY THIS LINE)*****\n",
    "\n",
    "for l in learning_rates:\n",
    "    for r in regularization_strengths:\n",
    "        svm = Softmax()\n",
    "        svm.train(X_train, y_train, learning_rate=l, reg=r, num_iters=500)\n",
    "        y_train_pred = svm.predict(X_train)\n",
    "        y_val_pred = svm.predict(X_val)\n",
    "        \n",
    "        val_ac = np.mean(y_val == y_val_pred)\n",
    "        if val_ac>best_val:\n",
    "            best_val = val_ac\n",
    "            best_svm = svm\n",
    "        \n",
    "        results[(l,r)]=(np.mean(y_train == y_train_pred), val_ac)\n",
    "\n",
    "# *****END OF YOUR CODE (DO NOT DELETE/MODIFY THIS LINE)*****\n",
    "    \n",
    "# Print out results.\n",
    "for lr, reg in sorted(results):\n",
    "    train_accuracy, val_accuracy = results[(lr, reg)]\n",
    "    print('lr %e reg %e train accuracy: %f val accuracy: %f' % (\n",
    "                lr, reg, train_accuracy, val_accuracy))\n",
    "    \n",
    "print('best validation accuracy achieved during cross-validation: %f' % best_val)"
   ]
  },
  {
   "cell_type": "code",
   "execution_count": 36,
   "metadata": {},
   "outputs": [
    {
     "name": "stdout",
     "output_type": "stream",
     "text": [
      "softmax on raw pixels final test set accuracy: 0.352000\n"
     ]
    }
   ],
   "source": [
    "# evaluate on test set\n",
    "# Evaluate the best softmax on test set\n",
    "y_test_pred = best_svm.predict(X_test)\n",
    "test_accuracy = np.mean(y_test == y_test_pred)\n",
    "print('softmax on raw pixels final test set accuracy: %f' % (test_accuracy, ))"
   ]
  },
  {
   "cell_type": "markdown",
   "metadata": {
    "tags": [
     "pdf-inline"
    ]
   },
   "source": [
    "**Inline Question 2** - *True or False*\n",
    "\n",
    "Suppose the overall training loss is defined as the sum of the per-datapoint loss over all training examples. It is possible to add a new datapoint to a training set that would leave the SVM loss unchanged, but this is not the case with the Softmax classifier loss.\n",
    "\n",
    "$\\color{blue}{\\textit Your Answer:}$ True\n",
    "\n",
    "\n",
    "$\\color{blue}{\\textit Your Explanation:}$ Since the output value of the correct class would have to be infinite to ensure no loss is incurred by other classes, it's impossible for a datapoint to be added to the training set that leaves Softmax loss unchanged.\n",
    "\n"
   ]
  },
  {
   "cell_type": "code",
   "execution_count": 38,
   "metadata": {},
   "outputs": [
    {
     "data": {
      "image/png": "[encoded data removed]",
      "text/plain": [
       "<Figure size 432x288 with 10 Axes>"
      ]
     },
     "metadata": {
      "needs_background": "light"
     },
     "output_type": "display_data"
    }
   ],
   "source": [
    "# Visualize the learned weights for each class\n",
    "w = best_svm.W[:-1,:] # strip out the bias\n",
    "w = w.reshape(32, 32, 3, 10)\n",
    "\n",
    "w_min, w_max = np.min(w), np.max(w)\n",
    "\n",
    "classes = ['plane', 'car', 'bird', 'cat', 'deer', 'dog', 'frog', 'horse', 'ship', 'truck']\n",
    "for i in range(10):\n",
    "    plt.subplot(2, 5, i + 1)\n",
    "    \n",
    "    # Rescale the weights to be between 0 and 255\n",
    "    wimg = 255.0 * (w[:, :, :, i].squeeze() - w_min) / (w_max - w_min)\n",
    "    plt.imshow(wimg.astype('uint8'))\n",
    "    plt.axis('off')\n",
    "    plt.title(classes[i])"
   ]
  },
  {
   "cell_type": "code",
   "execution_count": null,
   "metadata": {},
   "outputs": [],
   "source": []
  }
 ],
 "metadata": {
  "kernelspec": {
   "display_name": "Python 3",
   "language": "python",
   "name": "python3"
  },
  "language_info": {
   "codemirror_mode": {
    "name": "ipython",
    "version": 3
   },
   "file_extension": ".py",
   "mimetype": "text/x-python",
   "name": "python",
   "nbconvert_exporter": "python",
   "pygments_lexer": "ipython3",
   "version": "3.7.3"
  }
 },
 "nbformat": 4,
 "nbformat_minor": 1
}
